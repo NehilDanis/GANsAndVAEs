{
  "nbformat": 4,
  "nbformat_minor": 0,
  "metadata": {
    "colab": {
      "provenance": [],
      "collapsed_sections": [],
      "authorship_tag": "ABX9TyMRSeIjL9lxI4eUH9uFjsLb",
      "include_colab_link": true
    },
    "kernelspec": {
      "name": "python3",
      "display_name": "Python 3"
    },
    "language_info": {
      "name": "python"
    }
  },
  "cells": [
    {
      "cell_type": "markdown",
      "metadata": {
        "id": "view-in-github",
        "colab_type": "text"
      },
      "source": [
        "<a href=\"https://colab.research.google.com/github/NehilDanis/GANsAndVAEs/blob/master/NaiveBayesClassifier.ipynb\" target=\"_parent\"><img src=\"https://colab.research.google.com/assets/colab-badge.svg\" alt=\"Open In Colab\"/></a>"
      ]
    },
    {
      "cell_type": "markdown",
      "source": [
        "# Naive Bayes Classifier\n",
        "\n",
        "* sampling from a class\n",
        "* Bayes classifier is a generative model\n",
        "* In the Bayes classifier the aim is to model P(X, y ) rather than modelling P(y | X).\n",
        "* In discriminative models, the model is trained by looking at all the data and labels, and when unknown labelled data given to the model, it can calculate the predicted label.\n",
        "* Though in generative models, rather than looking at all classes together, every single class is observed separately. Once each class is modelled, given the class label, new data can be generated. \n",
        "* It is called **naive** because of the assumption that all data samples are independent and identically distibuted. For example if you are trying to estimate the likelihood of a mail to be spam, then the word order does not matter for naive bayes classifier. It will simply consider that each word in the mail are independent from one another."
      ],
      "metadata": {
        "id": "e7_2KpVXOcGy"
      }
    },
    {
      "cell_type": "markdown",
      "source": [
        "## Sampling from P(X | y = k)\n",
        "\n",
        "* Given the class information, data in the class k can be modelled.\n",
        "* Data ca be modelled using many different distributions.\n",
        "* In case of discrete data it is best to calculate the frequency of each attribute value for a given class value divided by the frequency of instances with that class value.\n",
        "\n",
        "For example if we are to model the weather being rainy given the state is California:\n",
        "\n",
        "*p(X = rainy | y = California) = **count**(instances with weather rainy and state is California) / **count**(all weather instances in california)*\n",
        "\n",
        "* In case we work with continous data, Gaussian distribution can be used to model data, given the class label. \n",
        "* It is easy to model the Gaussian distribution, since only mean and the standard deviation needs to be estimated from the training data.\n",
        "\n",
        "Given the class label the mean and the variance/covariance of the data need to be calculated. \n",
        "\n",
        "If data will be modelled as a gaussian, make sure that its univariate distribution is close to Gaussian.\n"
      ],
      "metadata": {
        "id": "MmP-7bqVNLGE"
      }
    },
    {
      "cell_type": "markdown",
      "source": [
        "## Sampling from P(X, y = k)\n",
        "\n",
        "* Even though P(X | y = k) helps us to calculate the likelihood of a sample given that it belongs to a certain class, it is also consider the propabilty of that class.\n",
        "* P(X | y = k) p(y = k) \n",
        "![graphRepresentation.png](data:image/png;base64,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)\n",
        "\n",
        "* As it is seen in the above diagram, it is clear there is a dependence between x and y.\n",
        "* Each node of the diagram represents a distribution.\n",
        "* Hence y should also have its own distribution.\n",
        "* Class distirbution can be represented using categorical/discrete distribution.\n",
        "* P(y = k) can be calculated by dividing the number of samples belongs to class k with the number of all the samples in data X.\n",
        "\n",
        "*p(y = k) = **count**(instances of class k) / **count**(all instances)*"
      ],
      "metadata": {
        "id": "B9RcRAsPYiDI"
      }
    },
    {
      "cell_type": "code",
      "execution_count": 46,
      "metadata": {
        "id": "EzhqaU9GJqM6"
      },
      "outputs": [],
      "source": [
        "#do imports\n",
        "import numpy as np\n",
        "from scipy.stats import multivariate_normal as mvn\n",
        "import pandas as pd\n",
        "import matplotlib.pyplot as plt\n",
        "from scipy.stats import multivariate_normal as mvn"
      ]
    },
    {
      "cell_type": "markdown",
      "source": [
        "### Get Data"
      ],
      "metadata": {
        "id": "s9ylTGduciss"
      }
    },
    {
      "cell_type": "code",
      "source": [
        "df = pd.read_csv(\"/content/sample_data/mnist_train_small.csv\")\n",
        "data = df.values # transform data from data frame to numpy array\n",
        "X = data[:, 1:] / 255.0 # normalize the data\n",
        "y = data[:, 0]\n",
        "X.shape\n",
        "shuffled_idx = np.random.shuffle(np.arange(len(y)))\n",
        "X, y = np.squeeze(X[shuffled_idx]), np.squeeze(y[shuffled_idx])"
      ],
      "metadata": {
        "id": "ho1UN3dIO1dK"
      },
      "execution_count": 34,
      "outputs": []
    },
    {
      "cell_type": "markdown",
      "source": [
        "### Visualize Some Samples from Data"
      ],
      "metadata": {
        "id": "SMq4l9D6cp6A"
      }
    },
    {
      "cell_type": "code",
      "source": [
        "# visalize few image\n",
        "r = 1\n",
        "c = 3\n",
        "\n",
        "fig = plt.figure()\n",
        "\n",
        "# obtain an image and show it\n",
        "indices = np.random.choice(len(y), 3, replace=False)\n",
        "fig.add_subplot(r, c, 1) # first position\n",
        "plt.imshow(X[indices[0]].reshape(28, 28))\n",
        "fig.add_subplot(r, c, 2) # second position\n",
        "plt.imshow(X[indices[1]].reshape(28, 28))\n",
        "fig.add_subplot(r, c, 3) # third position\n",
        "plt.imshow(X[indices[2]].reshape(28, 28));"
      ],
      "metadata": {
        "colab": {
          "base_uri": "https://localhost:8080/",
          "height": 149
        },
        "id": "QdMZCKxCPEEy",
        "outputId": "887d7b6f-f0e8-4f3f-fc01-239d42f1bf38"
      },
      "execution_count": 45,
      "outputs": [
        {
          "output_type": "display_data",
          "data": {
            "text/plain": [
              "<Figure size 432x288 with 3 Axes>"
            ],
            "image/png": "[encoded data removed]"
          },
          "metadata": {
            "needs_background": "light"
          }
        }
      ]
    },
    {
      "cell_type": "markdown",
      "source": [
        "### The Classifier"
      ],
      "metadata": {
        "id": "bb6ORKPCcutf"
      }
    },
    {
      "cell_type": "code",
      "source": [
        "class BayesClassifier:\n",
        "  def fit(self, X, y):\n",
        "    # here we will assume that the classes are numbered from 0...K-1\n",
        "    self.K = len(set(y)) \n",
        "\n",
        "    self.gaussians = []\n",
        "    # loop through all possible classes and model their gaussian distribution\n",
        "    for k in range(self.K):\n",
        "      Xk = X[y == k] # all the samples which belongs to class k\n",
        "      mean = Xk.mean(axis = 0) # mean of each column\n",
        "      cov = np.cov(Xk.T) # we need to take the transpose to make a (N, 1) shaped\n",
        "      # vector instead of (1, N)\n",
        "      g = {'m': mean, 'c': cov}\n",
        "      self.gaussians.append(g)\n",
        "  \n",
        "  def sample_given_y(self, y):\n",
        "    class_dist = self.gaussians[y]\n",
        "    return mvn.rvs(mean=class_dist['m'], cov=class_dist['c'])\n",
        "\n",
        "  def sample(self):\n",
        "    k = np.random.randint(self.K)\n",
        "    return self.sample_given_y(k)"
      ],
      "metadata": {
        "id": "lIuAjkGJDd3H"
      },
      "execution_count": 47,
      "outputs": []
    },
    {
      "cell_type": "markdown",
      "source": [
        "### Visualized the Generated Samples"
      ],
      "metadata": {
        "id": "EYBw0adBcyEz"
      }
    },
    {
      "cell_type": "code",
      "source": [
        "clf = BayesClassifier()\n",
        "clf.fit(X, y)\n",
        "sampled_data = clf.sample_given_y(3).reshape(28, 28)\n",
        "sampled_dist_mean = clf.gaussians[3]['m'].reshape(28, 28)\n",
        "\n",
        "r = 1\n",
        "c = 2\n",
        "\n",
        "fig = plt.figure()\n",
        "\n",
        "# add the sampled image\n",
        "fig.add_subplot(r, c, 1)\n",
        "plt.imshow(sampled_data)\n",
        "plt.title(\"Generated Image\")\n",
        "\n",
        "# add the mean image of the distribution\n",
        "fig.add_subplot(r, c, 2)\n",
        "plt.imshow(sampled_dist_mean)\n",
        "plt.title(\"Distribution Mean\");\n",
        "\n"
      ],
      "metadata": {
        "colab": {
          "base_uri": "https://localhost:8080/",
          "height": 216
        },
        "id": "qILYY4IJcdLg",
        "outputId": "756728ab-dedc-4752-959a-26051b31653a"
      },
      "execution_count": 50,
      "outputs": [
        {
          "output_type": "display_data",
          "data": {
            "text/plain": [
              "<Figure size 432x288 with 2 Axes>"
            ],
            "image/png": "[encoded data removed]"
          },
          "metadata": {
            "needs_background": "light"
          }
        }
      ]
    },
    {
      "cell_type": "markdown",
      "source": [
        "## References\n",
        "* [Naive Bayes for Machine Learning](https://machinelearningmastery.com/naive-bayes-for-machine-learning/)\n",
        "* [Deep Learning: GANs and Variational Autoencoders\n",
        "](https://www.udemy.com/share/101Xwm3@ZkNqeQp4EN5lX7Y4mHSeIS2-ptrJ15UqoGLF5Q2fJ8xNr5mlBv3vnfnB8oXSR6r8VA==/)"
      ],
      "metadata": {
        "id": "PHv2hBt_WxQJ"
      }
    }
  ]
}