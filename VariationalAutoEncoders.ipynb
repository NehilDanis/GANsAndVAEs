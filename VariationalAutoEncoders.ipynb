{
  "nbformat": 4,
  "nbformat_minor": 0,
  "metadata": {
    "colab": {
      "provenance": [],
      "collapsed_sections": [],
      "authorship_tag": "ABX9TyOkyOoej53noJu+BJIbS+Kz",
      "include_colab_link": true
    },
    "kernelspec": {
      "name": "python3",
      "display_name": "Python 3"
    },
    "language_info": {
      "name": "python"
    }
  },
  "cells": [
    {
      "cell_type": "markdown",
      "metadata": {
        "id": "view-in-github",
        "colab_type": "text"
      },
      "source": [
        "<a href=\"https://colab.research.google.com/github/NehilDanis/GANsAndVAEs/blob/master/VariationalAutoEncoders.ipynb\" target=\"_parent\"><img src=\"https://colab.research.google.com/assets/colab-badge.svg\" alt=\"Open In Colab\"/></a>"
      ]
    },
    {
      "cell_type": "markdown",
      "source": [
        "# Variational Autoencoders\n",
        "\n",
        "* Learns to reproduce its input and also learns to map data to the latent space then can generate samples by sampling from the latent space.\n",
        "\n",
        "## What are regular Autoencoders?\n",
        "\n",
        "* Autoecoders learn to reproduce their input.\n",
        "* The key is that the number of hidden units in an autoencoder is always smaller than the size of the input. Hence the autoencoder is forced to learn more compact version the input data. (Bottleneck)\n",
        "* The bottleneck shows the true amount of information in the input data and these features are called the latent variable representation of the input data. Just like in GMM example, here latent variables will also represented by letter z.\n",
        "\n",
        "## Variational Inference\n",
        "\n",
        "When there are latent variables in the data, expectation maximization(EM) algorithm is used. Though EM gives the point estimate of the latent variables' distributions parameters. It is frequentist.\n",
        "\n",
        "On the other hand variational inference is Bayesian and it learns the distributions of the these parameters.\n"
      ],
      "metadata": {
        "id": "1SOmrtlkCjua"
      }
    },
    {
      "cell_type": "code",
      "execution_count": null,
      "metadata": {
        "id": "8lsaLZ-uCU6T"
      },
      "outputs": [],
      "source": []
    }
  ]
}